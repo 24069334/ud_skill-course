{
 "cells": [
  {
   "cell_type": "markdown",
   "id": "38e188a5",
   "metadata": {},
   "source": [
    "# Exercise 00\n",
    "Write a piece of code that allocates a list of 20 integers and initializes each element by its index multiplied by 5. Print the result."
   ]
  },
  {
   "cell_type": "code",
   "execution_count": 2,
   "id": "01aa4f35",
   "metadata": {},
   "outputs": [
    {
     "name": "stdout",
     "output_type": "stream",
     "text": [
      "0\n",
      "5\n",
      "10\n",
      "15\n",
      "20\n",
      "25\n",
      "30\n",
      "35\n",
      "40\n",
      "45\n",
      "50\n",
      "55\n",
      "60\n",
      "65\n",
      "70\n",
      "75\n",
      "80\n",
      "85\n",
      "90\n",
      "95\n"
     ]
    }
   ],
   "source": [
    "myList = list(range(0,20))\n",
    "\n",
    "for i in myList:\n",
    "    x = i*5\n",
    "    print(x)"
   ]
  },
  {
   "cell_type": "markdown",
   "id": "529d91ae",
   "metadata": {},
   "source": [
    "# Exercise 01\n",
    "Define a function that takes an integer as input, prints  all integers that it is divisable by, and returns the largest one."
   ]
  },
  {
   "cell_type": "code",
   "execution_count": 12,
   "id": "30e79132",
   "metadata": {},
   "outputs": [
    {
     "name": "stdout",
     "output_type": "stream",
     "text": [
      "Please input a number:64\n",
      "[1, 2, 4, 8, 16, 32]\n",
      "32\n"
     ]
    }
   ],
   "source": [
    "n = int(input('Please input a number:'))\n",
    "myList = []\n",
    "\n",
    "for r in range(1,n):\n",
    "        if n%r == 0:\n",
    "            myList.append(r)\n",
    "        else:\n",
    "            r += 1\n",
    "    \n",
    "print(myList)\n",
    "\n",
    "print(myList[-1])\n"
   ]
  },
  {
   "cell_type": "markdown",
   "id": "cfbe30d4",
   "metadata": {},
   "source": [
    "# Exercise 02\n",
    "- create a dictionary with 6 keys and values of your choice\n",
    "- write a function that takes a dictionary and a value as input and returns whether the value occurs as a key in the dictionary\n",
    "- write a function that takes a dictionary as input, and returns the dictionary but the keys are swapped with their values (resolve the issue if a value occurs twice!)"
   ]
  },
  {
   "cell_type": "code",
   "execution_count": 18,
   "id": "2123f1c6",
   "metadata": {},
   "outputs": [
    {
     "name": "stdout",
     "output_type": "stream",
     "text": [
      "Please input a name of a station:Vic\n",
      "The value does not occur as a key in the dictionary\n"
     ]
    }
   ],
   "source": [
    "Dic = {'Euston':'London',\n",
    "       'Kingsx':'London',\n",
    "       'Waverley':'Edinburgh',\n",
    "       'Picc':'Manchester',\n",
    "       'Queen st':'Glasgow',\n",
    "       'New st':'Birmingham'}\n",
    "\n",
    "value = input('Please input a name of a station:')\n",
    "\n",
    "def check(Dic,value):\n",
    "    for key in Dic:\n",
    "        if value == key:\n",
    "            print('The value occurs as a key in the dictionary')\n",
    "            return\n",
    "    \n",
    "print('The value does not occur as a key in the dictionary')\n",
    "\n",
    "check(Dic,value)"
   ]
  },
  {
   "cell_type": "code",
   "execution_count": 20,
   "id": "41934eed",
   "metadata": {},
   "outputs": [
    {
     "name": "stdout",
     "output_type": "stream",
     "text": [
      "{'London': 'Kingsx', 'Edinburgh': 'Waverley', 'Manchester': 'Picc', 'Glasgow': 'Queen st', 'Birmingham': 'New st'}\n"
     ]
    }
   ],
   "source": [
    "def swap(Dic):\n",
    "    newDic = {}\n",
    "    \n",
    "    for key, value in Dic.items():\n",
    "        newDic[value] = key\n",
    "    \n",
    "    return newDic\n",
    "\n",
    "print(swap(Dic))"
   ]
  },
  {
   "cell_type": "markdown",
   "id": "b4b4e426",
   "metadata": {},
   "source": [
    "# Exercise 03\n",
    "Define a function that creates a dictionary of the first n fibonacci numbers as values paired with their indices as keys. "
   ]
  },
  {
   "cell_type": "code",
   "execution_count": 31,
   "id": "7845b5a4",
   "metadata": {},
   "outputs": [
    {
     "name": "stdout",
     "output_type": "stream",
     "text": [
      "Please input a number: 5\n",
      "{1: 0, 2: 1, 3: 1, 4: 2, 5: 3}\n"
     ]
    }
   ],
   "source": [
    "def fibonacci(n):\n",
    "    Dic = {}\n",
    "\n",
    "    n1 = 0\n",
    "    n2 = 1\n",
    "    i = 1\n",
    "\n",
    "    while i <= n:  \n",
    "        Dic[i] = n1\n",
    "        m = n1 + n2\n",
    "        n1 = n2\n",
    "        n2 = m\n",
    "        i += 1\n",
    "\n",
    "    return Dic \n",
    "\n",
    "\n",
    "n = int(input('Please input a number: '))\n",
    "print(Dic)\n"
   ]
  }
 ],
 "metadata": {
  "kernelspec": {
   "display_name": "Python 3 (ipykernel)",
   "language": "python",
   "name": "python3"
  },
  "language_info": {
   "codemirror_mode": {
    "name": "ipython",
    "version": 3
   },
   "file_extension": ".py",
   "mimetype": "text/x-python",
   "name": "python",
   "nbconvert_exporter": "python",
   "pygments_lexer": "ipython3",
   "version": "3.11.3"
  }
 },
 "nbformat": 4,
 "nbformat_minor": 5
}
